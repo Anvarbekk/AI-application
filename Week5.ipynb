{
  "nbformat": 4,
  "nbformat_minor": 0,
  "metadata": {
    "colab": {
      "provenance": [],
      "authorship_tag": "ABX9TyNk2+PoLMgqm2rrg1k65glX",
      "include_colab_link": true
    },
    "kernelspec": {
      "name": "python3",
      "display_name": "Python 3"
    },
    "language_info": {
      "name": "python"
    }
  },
  "cells": [
    {
      "cell_type": "markdown",
      "metadata": {
        "id": "view-in-github",
        "colab_type": "text"
      },
      "source": [
        "<a href=\"https://colab.research.google.com/github/Anvarbekk/AI-application/blob/main/Week5.ipynb\" target=\"_parent\"><img src=\"https://colab.research.google.com/assets/colab-badge.svg\" alt=\"Open In Colab\"/></a>"
      ]
    },
    {
      "cell_type": "code",
      "source": [
        "pip install tensorflow==1.15.5"
      ],
      "metadata": {
        "colab": {
          "base_uri": "https://localhost:8080/"
        },
        "id": "8Jw5D9ZX0MG6",
        "outputId": "4a2c7c99-7bb9-4d5d-92f6-55c63a3fd8ff"
      },
      "execution_count": null,
      "outputs": [
        {
          "output_type": "stream",
          "name": "stdout",
          "text": [
            "Looking in indexes: https://pypi.org/simple, https://us-python.pkg.dev/colab-wheels/public/simple/\n",
            "Requirement already satisfied: tensorflow==1.15.5 in /usr/local/lib/python3.7/dist-packages (1.15.5)\n",
            "Requirement already satisfied: numpy<1.19.0,>=1.16.0 in /usr/local/lib/python3.7/dist-packages (from tensorflow==1.15.5) (1.18.5)\n",
            "Requirement already satisfied: wheel>=0.26 in /usr/local/lib/python3.7/dist-packages (from tensorflow==1.15.5) (0.37.1)\n",
            "Requirement already satisfied: six>=1.10.0 in /usr/local/lib/python3.7/dist-packages (from tensorflow==1.15.5) (1.15.0)\n",
            "Requirement already satisfied: keras-applications>=1.0.8 in /usr/local/lib/python3.7/dist-packages (from tensorflow==1.15.5) (1.0.8)\n",
            "Requirement already satisfied: astor>=0.6.0 in /usr/local/lib/python3.7/dist-packages (from tensorflow==1.15.5) (0.8.1)\n",
            "Requirement already satisfied: grpcio>=1.8.6 in /usr/local/lib/python3.7/dist-packages (from tensorflow==1.15.5) (1.49.1)\n",
            "Requirement already satisfied: termcolor>=1.1.0 in /usr/local/lib/python3.7/dist-packages (from tensorflow==1.15.5) (2.0.1)\n",
            "Requirement already satisfied: absl-py>=0.7.0 in /usr/local/lib/python3.7/dist-packages (from tensorflow==1.15.5) (1.2.0)\n",
            "Requirement already satisfied: wrapt>=1.11.1 in /usr/local/lib/python3.7/dist-packages (from tensorflow==1.15.5) (1.14.1)\n",
            "Requirement already satisfied: google-pasta>=0.1.6 in /usr/local/lib/python3.7/dist-packages (from tensorflow==1.15.5) (0.2.0)\n",
            "Requirement already satisfied: h5py<=2.10.0 in /usr/local/lib/python3.7/dist-packages (from tensorflow==1.15.5) (2.10.0)\n",
            "Requirement already satisfied: tensorflow-estimator==1.15.1 in /usr/local/lib/python3.7/dist-packages (from tensorflow==1.15.5) (1.15.1)\n",
            "Requirement already satisfied: tensorboard<1.16.0,>=1.15.0 in /usr/local/lib/python3.7/dist-packages (from tensorflow==1.15.5) (1.15.0)\n",
            "Requirement already satisfied: opt-einsum>=2.3.2 in /usr/local/lib/python3.7/dist-packages (from tensorflow==1.15.5) (3.3.0)\n",
            "Requirement already satisfied: keras-preprocessing>=1.0.5 in /usr/local/lib/python3.7/dist-packages (from tensorflow==1.15.5) (1.1.2)\n",
            "Requirement already satisfied: gast==0.2.2 in /usr/local/lib/python3.7/dist-packages (from tensorflow==1.15.5) (0.2.2)\n",
            "Requirement already satisfied: protobuf>=3.6.1 in /usr/local/lib/python3.7/dist-packages (from tensorflow==1.15.5) (3.17.3)\n",
            "Requirement already satisfied: werkzeug>=0.11.15 in /usr/local/lib/python3.7/dist-packages (from tensorboard<1.16.0,>=1.15.0->tensorflow==1.15.5) (1.0.1)\n",
            "Requirement already satisfied: markdown>=2.6.8 in /usr/local/lib/python3.7/dist-packages (from tensorboard<1.16.0,>=1.15.0->tensorflow==1.15.5) (3.4.1)\n",
            "Requirement already satisfied: setuptools>=41.0.0 in /usr/local/lib/python3.7/dist-packages (from tensorboard<1.16.0,>=1.15.0->tensorflow==1.15.5) (57.4.0)\n",
            "Requirement already satisfied: importlib-metadata>=4.4 in /usr/local/lib/python3.7/dist-packages (from markdown>=2.6.8->tensorboard<1.16.0,>=1.15.0->tensorflow==1.15.5) (5.0.0)\n",
            "Requirement already satisfied: zipp>=0.5 in /usr/local/lib/python3.7/dist-packages (from importlib-metadata>=4.4->markdown>=2.6.8->tensorboard<1.16.0,>=1.15.0->tensorflow==1.15.5) (3.8.1)\n",
            "Requirement already satisfied: typing-extensions>=3.6.4 in /usr/local/lib/python3.7/dist-packages (from importlib-metadata>=4.4->markdown>=2.6.8->tensorboard<1.16.0,>=1.15.0->tensorflow==1.15.5) (4.1.1)\n"
          ]
        }
      ]
    },
    {
      "cell_type": "code",
      "execution_count": null,
      "metadata": {
        "id": "sF65hSDA70-E",
        "colab": {
          "base_uri": "https://localhost:8080/"
        },
        "outputId": "8b8b124d-f860-4dd6-f82a-1e31c419e9c8"
      },
      "outputs": [
        {
          "output_type": "stream",
          "name": "stdout",
          "text": [
            "0\n",
            "1\n",
            "2\n",
            "3\n",
            "4\n",
            "5\n"
          ]
        }
      ],
      "source": [
        "import numpy as np\n",
        "import tensorflow as tf\n",
        "with tf.compat.v1.Session() as sess:\n",
        "  a = tf.Variable(0, name = 'input' )\n",
        "  b= tf.constant(1)\n",
        "\n",
        "\n",
        "  mid = tf.add(a,b)\n",
        "  final = tf.compat.v1.assign(a, mid)\n",
        "\n",
        "\n",
        "  var = tf.compat.v1.initialize_all_variables()\n",
        "  sess.run(var)\n",
        "  print(sess.run(a))\n",
        "  for i in range(5):\n",
        "    sess.run(final)\n",
        "    print(sess.run(a))"
      ]
    },
    {
      "cell_type": "code",
      "source": [
        "import numpy as np\n",
        "import tensorflow as tf\n",
        "with tf.compat.v1.Session() as sess:\n",
        "  a = tf.constant(4)\n",
        "  b = tf.constant(6)\n",
        "  c = a + b\n",
        "  print(sess.run(c))\n",
        "\n",
        "\n"
      ],
      "metadata": {
        "colab": {
          "base_uri": "https://localhost:8080/"
        },
        "id": "xvybCz2n5eQA",
        "outputId": "4b15669e-a410-49d0-dcfd-615fa69313fd"
      },
      "execution_count": null,
      "outputs": [
        {
          "output_type": "stream",
          "name": "stdout",
          "text": [
            "10\n"
          ]
        }
      ]
    },
    {
      "cell_type": "code",
      "source": [
        "tf.compat.v1.disable_eager_execution()\n",
        "x = tf.compat.v1.placeholder(\"float32\", None)\n",
        "y = x**2 \n",
        "with tf.compat.v1.Session()as sess:\n",
        "  result = sess.run(y, feed_dict = {x: [1,2,3]})\n",
        "  print(result)"
      ],
      "metadata": {
        "colab": {
          "base_uri": "https://localhost:8080/"
        },
        "id": "o_VGAK1QpeGW",
        "outputId": "ce5d5a87-9ff8-4fd2-e0d7-be8a62b65684"
      },
      "execution_count": null,
      "outputs": [
        {
          "output_type": "stream",
          "name": "stdout",
          "text": [
            "[1. 4. 9.]\n"
          ]
        }
      ]
    },
    {
      "cell_type": "code",
      "source": [
        "import tensorflow as tf\n",
        "a = tf.add(1,2, name = \"addition_1\")\n",
        "b = tf.multiply(a, 3, name = \"multiplying_1\")\n",
        "С = tf.add(4,5, name = \"addition_2\")\n",
        "d = tf.multiply(c,6, name =  \"multiplying_2\")\n",
        "e = tf.multiply(4,5)\n",
        "f = tf.div (c,6, name = \"division\")\n",
        "g = tf.add(b,d)\n",
        "h = tf.multiply(g,f)\n",
        "with tf.compat.v1.Session() as sess:\n",
        "  writer = tf.summary.FileWriter(\"./logs\", sess.graph)\n",
        "  print(sess.run (h))\n",
        "  writer.close ()"
      ],
      "metadata": {
        "colab": {
          "base_uri": "https://localhost:8080/"
        },
        "id": "IL9WJQH1r9gY",
        "outputId": "8f8cb988-c928-41ee-a6f0-a4188fbcc312"
      },
      "execution_count": null,
      "outputs": [
        {
          "output_type": "stream",
          "name": "stderr",
          "text": [
            "WARNING:tensorflow:From <ipython-input-9-b94bdcacd6ec>:7: div (from tensorflow.python.ops.math_ops) is deprecated and will be removed in a future version.\n",
            "Instructions for updating:\n",
            "Deprecated in favor of operator or tf.math.divide.\n"
          ]
        },
        {
          "output_type": "stream",
          "name": "stdout",
          "text": [
            "69\n"
          ]
        }
      ]
    },
    {
      "cell_type": "code",
      "source": [
        "import tensorflow as tf\n",
        "tf.reset_default_graph()\n",
        "s_scalar = tf.compat.v1.get_variable(name = 'x_scalar', shape = [], initializer = tf.truncated_normal_initializer(mean = 0, stddev = 1))\n",
        "first_summary = tf.summary.scalar(name = 'First_summary', tensor = s_scalar)\n",
        "init = tf.global_variables_initializer()\n",
        "with tf.Session() as sess:\n",
        "  writer = tf.summary.FileWriter('./logs', sess.graph)\n",
        "\n",
        "  for i in range(100):\n",
        "    sess.run(init)\n",
        "    summary = sess.run(first_summary)\n",
        "    writer.add_summary(summary, i)\n"
      ],
      "metadata": {
        "id": "l4BeGbjSCzZB"
      },
      "execution_count": null,
      "outputs": []
    },
    {
      "cell_type": "code",
      "source": [
        "import tensorflow as tf\n",
        "tf.reset_default_graph()\n",
        "s_scalar = tf.compat.v1.get_variable(name = 'x_scalar', shape = [], initializer = tf.truncated_normal_initializer(mean = 0, stddev = 1))\n",
        "y_matrix = tf.get_variable(name = 'y_matrix', shape = [40,50], initializer = tf.truncated_normal_initializer(mean = 0, stddev = 1)\n",
        "\n",
        "# A scalar summary for scalar tensor \n",
        "first_summary = tf.summary.scalar(name = 'First_summary', tensor = s_scalar)\n",
        "\n",
        "# A histogram summary for non-scalar tensor 2D or 3D matrix\n",
        "histogram_summary = tf.summary.histogram('histogram_summary', y_matrix)\n",
        "\n",
        "\n",
        "init = tf.global_variables_initializer()\n",
        "with tf.Session() as sess:\n",
        "  writer = tf.summary.FileWriter('./logs', sess.graph)\n",
        "\n",
        "  for i in range(100):\n",
        "    sess.run(init)\n",
        "    summary1, summary2 = sess.run(first_summary, histogram_summary)\n",
        "    writer.add_summary(summary1, i)\n",
        "    writer.add_summary(summary2, i)"
      ],
      "metadata": {
        "colab": {
          "base_uri": "https://localhost:8080/",
          "height": 130
        },
        "id": "SyKyyQOtO5M8",
        "outputId": "71c6cbb4-f693-4b06-df16-50f05abbdfc6"
      },
      "execution_count": 27,
      "outputs": [
        {
          "output_type": "error",
          "ename": "SyntaxError",
          "evalue": "ignored",
          "traceback": [
            "\u001b[0;36m  File \u001b[0;32m\"<ipython-input-27-8d106cbed6b1>\"\u001b[0;36m, line \u001b[0;32m7\u001b[0m\n\u001b[0;31m    first_summary = tf.summary.scalar(name = 'First_summary', tensor = s_scalar)\u001b[0m\n\u001b[0m                ^\u001b[0m\n\u001b[0;31mSyntaxError\u001b[0m\u001b[0;31m:\u001b[0m invalid syntax\n"
          ]
        }
      ]
    }
  ]
}