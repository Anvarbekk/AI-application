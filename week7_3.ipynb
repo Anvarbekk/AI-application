{
  "nbformat": 4,
  "nbformat_minor": 0,
  "metadata": {
    "colab": {
      "provenance": [],
      "authorship_tag": "ABX9TyOx16xBQTR4Z2UXIajqSFDG",
      "include_colab_link": true
    },
    "kernelspec": {
      "name": "python3",
      "display_name": "Python 3"
    },
    "language_info": {
      "name": "python"
    }
  },
  "cells": [
    {
      "cell_type": "markdown",
      "metadata": {
        "id": "view-in-github",
        "colab_type": "text"
      },
      "source": [
        "<a href=\"https://colab.research.google.com/github/Anvarbekk/AI-application/blob/main/week7_3.ipynb\" target=\"_parent\"><img src=\"https://colab.research.google.com/assets/colab-badge.svg\" alt=\"Open In Colab\"/></a>"
      ]
    },
    {
      "cell_type": "code",
      "execution_count": 6,
      "metadata": {
        "colab": {
          "base_uri": "https://localhost:8080/"
        },
        "id": "P8hfNkJchOOj",
        "outputId": "2abcd21f-7c5e-418b-996a-1862c6c31a17"
      },
      "outputs": [
        {
          "output_type": "stream",
          "name": "stdout",
          "text": [
            "Files already downloaded and verified\n"
          ]
        }
      ],
      "source": [
        "import torch\n",
        "import torch.nn as nn \n",
        "import torchvision\n",
        "import torchvision.transforms as transforms \n",
        "from torchvision.datasets import CIFAR10 \n",
        "from torch.utils.data import DataLoader \n",
        "import numpy as np\n",
        "\n",
        "device = torch.device(\"cuda:0\" if torch.cuda.is_available() else \"cpu\")\n",
        "EPOCHS = 128\n",
        "BATCH_SIZE = 32\n",
        "# Load training dataset into a single batch to compute mean and stddev.\n",
        "transform = transforms. Compose([transforms. ToTensor ()])\n",
        "trainset = CIFAR10(root='./pt_data', train=True, download=True, transform=transform)\n",
        "trainloader = DataLoader (trainset, batch_size=len(trainset), shuffle=False)\n",
        "data = next(iter (trainloader))\n",
        "mean = data[0].mean ()\n",
        "stddev = data[0].std()"
      ]
    }
  ]
}