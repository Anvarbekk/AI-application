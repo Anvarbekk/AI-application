{
  "nbformat": 4,
  "nbformat_minor": 0,
  "metadata": {
    "colab": {
      "provenance": [],
      "collapsed_sections": [],
      "authorship_tag": "ABX9TyO9jHEqWTAlu2pTOhgBVyp3",
      "include_colab_link": true
    },
    "kernelspec": {
      "name": "python3",
      "display_name": "Python 3"
    },
    "language_info": {
      "name": "python"
    },
    "accelerator": "GPU"
  },
  "cells": [
    {
      "cell_type": "markdown",
      "metadata": {
        "id": "view-in-github",
        "colab_type": "text"
      },
      "source": [
        "<a href=\"https://colab.research.google.com/github/Anvarbekk/AI-application/blob/main/week_6_1.ipynb\" target=\"_parent\"><img src=\"https://colab.research.google.com/assets/colab-badge.svg\" alt=\"Open In Colab\"/></a>"
      ]
    },
    {
      "cell_type": "code",
      "execution_count": 1,
      "metadata": {
        "colab": {
          "base_uri": "https://localhost:8080/",
          "height": 1000
        },
        "id": "lR5IT3iFAXdN",
        "outputId": "f33a9344-2d4c-4fce-9d4d-c46823227652"
      },
      "outputs": [
        {
          "output_type": "stream",
          "name": "stdout",
          "text": [
            "Looking in indexes: https://pypi.org/simple, https://us-python.pkg.dev/colab-wheels/public/simple/\n",
            "Collecting tensorflow==1.15.5\n",
            "  Downloading tensorflow-1.15.5-cp37-cp37m-manylinux2010_x86_64.whl (110.5 MB)\n",
            "\u001b[K     |████████████████████████████████| 110.5 MB 1.2 kB/s \n",
            "\u001b[?25hRequirement already satisfied: opt-einsum>=2.3.2 in /usr/local/lib/python3.7/dist-packages (from tensorflow==1.15.5) (3.3.0)\n",
            "Requirement already satisfied: keras-preprocessing>=1.0.5 in /usr/local/lib/python3.7/dist-packages (from tensorflow==1.15.5) (1.1.2)\n",
            "Requirement already satisfied: termcolor>=1.1.0 in /usr/local/lib/python3.7/dist-packages (from tensorflow==1.15.5) (2.0.1)\n",
            "Requirement already satisfied: google-pasta>=0.1.6 in /usr/local/lib/python3.7/dist-packages (from tensorflow==1.15.5) (0.2.0)\n",
            "Requirement already satisfied: six>=1.10.0 in /usr/local/lib/python3.7/dist-packages (from tensorflow==1.15.5) (1.15.0)\n",
            "Requirement already satisfied: wrapt>=1.11.1 in /usr/local/lib/python3.7/dist-packages (from tensorflow==1.15.5) (1.14.1)\n",
            "Collecting tensorboard<1.16.0,>=1.15.0\n",
            "  Downloading tensorboard-1.15.0-py3-none-any.whl (3.8 MB)\n",
            "\u001b[K     |████████████████████████████████| 3.8 MB 30.8 MB/s \n",
            "\u001b[?25hCollecting h5py<=2.10.0\n",
            "  Downloading h5py-2.10.0-cp37-cp37m-manylinux1_x86_64.whl (2.9 MB)\n",
            "\u001b[K     |████████████████████████████████| 2.9 MB 46.4 MB/s \n",
            "\u001b[?25hRequirement already satisfied: wheel>=0.26 in /usr/local/lib/python3.7/dist-packages (from tensorflow==1.15.5) (0.37.1)\n",
            "Requirement already satisfied: astor>=0.6.0 in /usr/local/lib/python3.7/dist-packages (from tensorflow==1.15.5) (0.8.1)\n",
            "Collecting numpy<1.19.0,>=1.16.0\n",
            "  Downloading numpy-1.18.5-cp37-cp37m-manylinux1_x86_64.whl (20.1 MB)\n",
            "\u001b[K     |████████████████████████████████| 20.1 MB 1.2 MB/s \n",
            "\u001b[?25hRequirement already satisfied: protobuf>=3.6.1 in /usr/local/lib/python3.7/dist-packages (from tensorflow==1.15.5) (3.17.3)\n",
            "Collecting tensorflow-estimator==1.15.1\n",
            "  Downloading tensorflow_estimator-1.15.1-py2.py3-none-any.whl (503 kB)\n",
            "\u001b[K     |████████████████████████████████| 503 kB 56.1 MB/s \n",
            "\u001b[?25hCollecting keras-applications>=1.0.8\n",
            "  Downloading Keras_Applications-1.0.8-py3-none-any.whl (50 kB)\n",
            "\u001b[K     |████████████████████████████████| 50 kB 6.8 MB/s \n",
            "\u001b[?25hRequirement already satisfied: grpcio>=1.8.6 in /usr/local/lib/python3.7/dist-packages (from tensorflow==1.15.5) (1.49.1)\n",
            "Requirement already satisfied: absl-py>=0.7.0 in /usr/local/lib/python3.7/dist-packages (from tensorflow==1.15.5) (1.2.0)\n",
            "Collecting gast==0.2.2\n",
            "  Downloading gast-0.2.2.tar.gz (10 kB)\n",
            "Requirement already satisfied: werkzeug>=0.11.15 in /usr/local/lib/python3.7/dist-packages (from tensorboard<1.16.0,>=1.15.0->tensorflow==1.15.5) (1.0.1)\n",
            "Requirement already satisfied: setuptools>=41.0.0 in /usr/local/lib/python3.7/dist-packages (from tensorboard<1.16.0,>=1.15.0->tensorflow==1.15.5) (57.4.0)\n",
            "Requirement already satisfied: markdown>=2.6.8 in /usr/local/lib/python3.7/dist-packages (from tensorboard<1.16.0,>=1.15.0->tensorflow==1.15.5) (3.4.1)\n",
            "Requirement already satisfied: importlib-metadata>=4.4 in /usr/local/lib/python3.7/dist-packages (from markdown>=2.6.8->tensorboard<1.16.0,>=1.15.0->tensorflow==1.15.5) (5.0.0)\n",
            "Requirement already satisfied: zipp>=0.5 in /usr/local/lib/python3.7/dist-packages (from importlib-metadata>=4.4->markdown>=2.6.8->tensorboard<1.16.0,>=1.15.0->tensorflow==1.15.5) (3.8.1)\n",
            "Requirement already satisfied: typing-extensions>=3.6.4 in /usr/local/lib/python3.7/dist-packages (from importlib-metadata>=4.4->markdown>=2.6.8->tensorboard<1.16.0,>=1.15.0->tensorflow==1.15.5) (4.1.1)\n",
            "Building wheels for collected packages: gast\n",
            "  Building wheel for gast (setup.py) ... \u001b[?25l\u001b[?25hdone\n",
            "  Created wheel for gast: filename=gast-0.2.2-py3-none-any.whl size=7554 sha256=394d430eabe7cb5b6af8dd27ea05e767043e74e4f922b5213f8b20d9e0cffa39\n",
            "  Stored in directory: /root/.cache/pip/wheels/21/7f/02/420f32a803f7d0967b48dd823da3f558c5166991bfd204eef3\n",
            "Successfully built gast\n",
            "Installing collected packages: numpy, h5py, tensorflow-estimator, tensorboard, keras-applications, gast, tensorflow\n",
            "  Attempting uninstall: numpy\n",
            "    Found existing installation: numpy 1.21.6\n",
            "    Uninstalling numpy-1.21.6:\n",
            "      Successfully uninstalled numpy-1.21.6\n",
            "  Attempting uninstall: h5py\n",
            "    Found existing installation: h5py 3.1.0\n",
            "    Uninstalling h5py-3.1.0:\n",
            "      Successfully uninstalled h5py-3.1.0\n",
            "  Attempting uninstall: tensorflow-estimator\n",
            "    Found existing installation: tensorflow-estimator 2.8.0\n",
            "    Uninstalling tensorflow-estimator-2.8.0:\n",
            "      Successfully uninstalled tensorflow-estimator-2.8.0\n",
            "  Attempting uninstall: tensorboard\n",
            "    Found existing installation: tensorboard 2.8.0\n",
            "    Uninstalling tensorboard-2.8.0:\n",
            "      Successfully uninstalled tensorboard-2.8.0\n",
            "  Attempting uninstall: gast\n",
            "    Found existing installation: gast 0.5.3\n",
            "    Uninstalling gast-0.5.3:\n",
            "      Successfully uninstalled gast-0.5.3\n",
            "  Attempting uninstall: tensorflow\n",
            "    Found existing installation: tensorflow 2.8.2+zzzcolab20220929150707\n",
            "    Uninstalling tensorflow-2.8.2+zzzcolab20220929150707:\n",
            "      Successfully uninstalled tensorflow-2.8.2+zzzcolab20220929150707\n",
            "\u001b[31mERROR: pip's dependency resolver does not currently take into account all the packages that are installed. This behaviour is the source of the following dependency conflicts.\n",
            "xarray-einstats 0.2.2 requires numpy>=1.21, but you have numpy 1.18.5 which is incompatible.\n",
            "tensorflow-probability 0.16.0 requires gast>=0.3.2, but you have gast 0.2.2 which is incompatible.\n",
            "tables 3.7.0 requires numpy>=1.19.0, but you have numpy 1.18.5 which is incompatible.\n",
            "plotnine 0.8.0 requires numpy>=1.19.0, but you have numpy 1.18.5 which is incompatible.\n",
            "kapre 0.3.7 requires tensorflow>=2.0.0, but you have tensorflow 1.15.5 which is incompatible.\n",
            "jaxlib 0.3.20+cuda11.cudnn805 requires numpy>=1.20, but you have numpy 1.18.5 which is incompatible.\n",
            "jax 0.3.21 requires numpy>=1.20, but you have numpy 1.18.5 which is incompatible.\n",
            "cupy-cuda11x 11.0.0 requires numpy<1.26,>=1.20, but you have numpy 1.18.5 which is incompatible.\n",
            "cmdstanpy 1.0.7 requires numpy>=1.21, but you have numpy 1.18.5 which is incompatible.\u001b[0m\n",
            "Successfully installed gast-0.2.2 h5py-2.10.0 keras-applications-1.0.8 numpy-1.18.5 tensorboard-1.15.0 tensorflow-1.15.5 tensorflow-estimator-1.15.1\n"
          ]
        },
        {
          "output_type": "display_data",
          "data": {
            "application/vnd.colab-display-data+json": {
              "pip_warning": {
                "packages": [
                  "numpy"
                ]
              }
            }
          },
          "metadata": {}
        }
      ],
      "source": [
        "pip install tensorflow==1.15.5\n"
      ]
    },
    {
      "cell_type": "code",
      "source": [
        "import numpy as np \n",
        "import tensorflow as tf\n",
        "import matplotlib.pyplot as plt"
      ],
      "metadata": {
        "id": "GpOSDzB0Aulg"
      },
      "execution_count": 2,
      "outputs": []
    },
    {
      "cell_type": "code",
      "source": [
        "learning_parameter = 0.01\n",
        "epochs = 300"
      ],
      "metadata": {
        "id": "u00qZvzhAz2M"
      },
      "execution_count": 3,
      "outputs": []
    },
    {
      "cell_type": "code",
      "source": [
        "sample_points = 50\n",
        "x_train = np.linspace(0,30,sample_points)\n",
        "y_train = 6*x_train + 7*np.random.randn(sample_points)"
      ],
      "metadata": {
        "id": "NrxRlOhrA3xS"
      },
      "execution_count": 4,
      "outputs": []
    },
    {
      "cell_type": "code",
      "source": [
        "# Noisy dataset\n",
        "plt.plot(x_train, y_train, 'o')\n",
        "# Noise free dataset \n",
        "plt.plot(x_train, 6*x_train)\n",
        "plt.show()"
      ],
      "metadata": {
        "colab": {
          "base_uri": "https://localhost:8080/",
          "height": 265
        },
        "id": "W460skKuA8Hg",
        "outputId": "7c4c3907-57f5-4e89-c34e-dce9e6a4dcb0"
      },
      "execution_count": 5,
      "outputs": [
        {
          "output_type": "display_data",
          "data": {
            "text/plain": [
              "<Figure size 432x288 with 1 Axes>"
            ],
            "image/png": "[encoded data removed]"
          },
          "metadata": {
            "needs_background": "light"
          }
        }
      ]
    },
    {
      "cell_type": "code",
      "source": [
        "Y = tf.placeholder(tf.float32)\n",
        "X = tf.placeholder(tf.float32)\n",
        "\n",
        "W = tf.Variable(np.random.randn(), name = 'weights')\n",
        "B = tf.Variable(np.random.randn(), name = 'bias')"
      ],
      "metadata": {
        "id": "yfvwulmaBAKQ"
      },
      "execution_count": 6,
      "outputs": []
    },
    {
      "cell_type": "code",
      "source": [
        "#Create the model for regression\n",
        "prediction = W*X + B\n",
        "\n",
        "# Cost function\n",
        "cost_iteration = tf.reduce_sum((prediction-Y)**2)/(2*sample_points)\n",
        "\n",
        "#Define the optimizer\n",
        "optimizer = tf.train.GradientDescentOptimizer(learning_parameter).minimize(cost_iteration)\n",
        "\n",
        "# Initialize the variables\n",
        "init = tf.global_variables_initializer()"
      ],
      "metadata": {
        "colab": {
          "base_uri": "https://localhost:8080/"
        },
        "id": "CW_UkPqVBGRa",
        "outputId": "a488b824-dfb6-4d5d-d90e-5413f1ac3e96"
      },
      "execution_count": 7,
      "outputs": [
        {
          "output_type": "stream",
          "name": "stderr",
          "text": [
            "WARNING:tensorflow:From /usr/local/lib/python3.7/dist-packages/tensorflow_core/python/ops/math_grad.py:1375: where (from tensorflow.python.ops.array_ops) is deprecated and will be removed in a future version.\n",
            "Instructions for updating:\n",
            "Use tf.where in 2.0, which has the same broadcast rule as np.where\n"
          ]
        }
      ]
    },
    {
      "cell_type": "code",
      "source": [
        "with tf.Session() as sess:\n",
        "  sess.run(init)\n",
        "  for epoch in range(epochs):\n",
        "    for x, y in zip(x_train, y_train):\n",
        "      sess.run(optimizer, feed_dict = {X : x, Y : y})\n",
        "    if not epoch%40:\n",
        "      W1 = sess.run(W)\n",
        "      B1 = sess.run(B)\n",
        "      cost_iter = sess.run(cost_iteration, feed_dict = {X : x, Y : y})\n",
        "      print('Epochs %f Cost %f Weight %f Bias %f' %(epoch, cost_iter, W1, B1))\n",
        "  Weight = sess.run(W)\n",
        "  Bias = sess.run(B)\n",
        "\n",
        "  plt.plot(x_train, y_train, 'o')\n",
        "  plt.plot(x_train,Weight*x_train+Bias)\n",
        "  plt.show()"
      ],
      "metadata": {
        "colab": {
          "base_uri": "https://localhost:8080/",
          "height": 404
        },
        "id": "yOKVRBcKgLsv",
        "outputId": "f225e2eb-5262-4887-e919-4c7b85b97213"
      },
      "execution_count": 8,
      "outputs": [
        {
          "output_type": "stream",
          "name": "stdout",
          "text": [
            "Epochs 0.000000 Cost 0.851224 Weight 5.850422 Bias -1.403527\n",
            "Epochs 40.000000 Cost 0.000137 Weight 6.167006 Bias -1.557827\n",
            "Epochs 80.000000 Cost 0.000200 Weight 6.173099 Bias -1.716251\n",
            "Epochs 120.000000 Cost 0.000267 Weight 6.178617 Bias -1.859711\n",
            "Epochs 160.000000 Cost 0.000337 Weight 6.183612 Bias -1.989615\n",
            "Epochs 200.000000 Cost 0.000406 Weight 6.188136 Bias -2.107249\n",
            "Epochs 240.000000 Cost 0.000475 Weight 6.192233 Bias -2.213769\n",
            "Epochs 280.000000 Cost 0.000542 Weight 6.195943 Bias -2.310229\n"
          ]
        },
        {
          "output_type": "display_data",
          "data": {
            "text/plain": [
              "<Figure size 432x288 with 1 Axes>"
            ],
            "image/png": "[encoded data removed]"
          },
          "metadata": {
            "needs_background": "light"
          }
        }
      ]
    },
    {
      "cell_type": "code",
      "source": [
        "# Create the model for regression\n",
        "with tf.name_scope(\"Model\") as scope:\n",
        "  prediction = W*X + B\n",
        "\n",
        "# Add summary to study behaviour of weights and biases with epochs\n",
        "weight_histogram = tf.summary.histogram(\"Weights\", W)\n",
        "bias_histogram = tf.summary.histogram(\"Bias\", B)\n",
        "\n",
        "# Cost function\n",
        "with tf.name_scope(\"Cost_function\") as scope:\n",
        "  cost_iteration = tf.reduce_sum((prediction-Y)**2)/(2*sample_points)\n",
        "\n",
        "# Record the scalar summary of the cost function\n",
        "cost_summary = tf.summary.scalar(\"Cost\", cost_iteration)"
      ],
      "metadata": {
        "id": "cmO3SAU6iN17"
      },
      "execution_count": 9,
      "outputs": []
    },
    {
      "cell_type": "code",
      "source": [
        "#Define the optimizer\n",
        "with tf.name_scope(\"Training\") as scope:\n",
        "  optimizer = tf.train.GradientDescentOptimizer(learning_parameter).minimize(cost_iteration)\n",
        "\n",
        "# Initialize the variables\n",
        "init = tf.global_variables_initializer()\n",
        "\n",
        "#Merge all the summaries into a single operator\n",
        "merged_summary = tf.summary.merge_all()"
      ],
      "metadata": {
        "id": "_U6G3sXPiSot"
      },
      "execution_count": 10,
      "outputs": []
    },
    {
      "cell_type": "code",
      "source": [
        "# Define the tensorflow session\n",
        "with tf.Session() as sess:\n",
        "  sess.run(init)\n",
        "  writer = tf.summary.FileWriter('./log', sess.graph)\n",
        "  for epoch in range(epochs):\n",
        "    for x, y in zip(x_train, y_train):\n",
        "      sess.run(optimizer, feed_dict = {X : x, Y : y})\n",
        "\n",
        "      # Write logs for each epochs\n",
        "      summary_epochs = sess.run(merged_summary, feed_dict = {X : x, Y : y})\n",
        "      writer.add_summary(summary_epochs, epoch)\n",
        "    if not epoch%40:\n",
        "      W1 = sess.run(W)\n",
        "      B1 = sess.run(B)\n",
        "      cost_iter = sess.run(cost_iteration, feed_dict = {X : x, Y : y})\n",
        "      print('Epochs %f Cost %f Weight %f Bias %f' %(epoch, cost_iter, W1, B1))\n",
        "  Weight = sess.run(W)\n",
        "  Bias = sess.run(B)\n",
        "\n",
        "  plt.plot(x_train, y_train, 'o')\n",
        "  plt.plot(x_train,Weight*x_train+Bias)\n",
        "  plt.show()"
      ],
      "metadata": {
        "colab": {
          "base_uri": "https://localhost:8080/",
          "height": 404
        },
        "id": "3u4AAt9xiXaI",
        "outputId": "37ce69c7-1405-47c9-898f-4914374f0611"
      },
      "execution_count": 11,
      "outputs": [
        {
          "output_type": "stream",
          "name": "stdout",
          "text": [
            "Epochs 0.000000 Cost 0.851224 Weight 5.850422 Bias -1.403527\n",
            "Epochs 40.000000 Cost 0.000137 Weight 6.167006 Bias -1.557827\n",
            "Epochs 80.000000 Cost 0.000200 Weight 6.173099 Bias -1.716251\n",
            "Epochs 120.000000 Cost 0.000267 Weight 6.178617 Bias -1.859711\n",
            "Epochs 160.000000 Cost 0.000337 Weight 6.183612 Bias -1.989615\n",
            "Epochs 200.000000 Cost 0.000406 Weight 6.188136 Bias -2.107249\n",
            "Epochs 240.000000 Cost 0.000475 Weight 6.192233 Bias -2.213769\n",
            "Epochs 280.000000 Cost 0.000542 Weight 6.195943 Bias -2.310229\n"
          ]
        },
        {
          "output_type": "display_data",
          "data": {
            "text/plain": [
              "<Figure size 432x288 with 1 Axes>"
            ],
            "image/png": "[encoded data removed]"
          },
          "metadata": {
            "needs_background": "light"
          }
        }
      ]
    },
    {
      "cell_type": "code",
      "source": [
        "import cv2\n",
        "import matplotlib.pyplot as plt\n",
        "import numpy as np\n",
        "import tensorflow as tf"
      ],
      "metadata": {
        "id": "UE20yKXipmBl"
      },
      "execution_count": 12,
      "outputs": []
    },
    {
      "cell_type": "code",
      "source": [
        "from tensorflow.examples.tutorials.mnist import input_data\n",
        "mnist_data = input_data.read_data_sets(\"./data\", one_hot = True)"
      ],
      "metadata": {
        "colab": {
          "base_uri": "https://localhost:8080/"
        },
        "id": "wjM-GWx3pvVt",
        "outputId": "60b843fa-7b55-44c6-dc2f-6b5d820b99c5"
      },
      "execution_count": 13,
      "outputs": [
        {
          "output_type": "stream",
          "name": "stderr",
          "text": [
            "WARNING:tensorflow:From <ipython-input-13-4cf8105ac99b>:2: read_data_sets (from tensorflow.contrib.learn.python.learn.datasets.mnist) is deprecated and will be removed in a future version.\n",
            "Instructions for updating:\n",
            "Please use alternatives such as official/mnist/dataset.py from tensorflow/models.\n",
            "WARNING:tensorflow:From /usr/local/lib/python3.7/dist-packages/tensorflow_core/contrib/learn/python/learn/datasets/mnist.py:260: maybe_download (from tensorflow.contrib.learn.python.learn.datasets.base) is deprecated and will be removed in a future version.\n",
            "Instructions for updating:\n",
            "Please write your own downloading logic.\n",
            "WARNING:tensorflow:From /usr/local/lib/python3.7/dist-packages/tensorflow_core/contrib/learn/python/learn/datasets/base.py:252: _internal_retry.<locals>.wrap.<locals>.wrapped_fn (from tensorflow.contrib.learn.python.learn.datasets.base) is deprecated and will be removed in a future version.\n",
            "Instructions for updating:\n",
            "Please use urllib or similar directly.\n",
            "WARNING:tensorflow:From /usr/local/lib/python3.7/dist-packages/tensorflow_core/contrib/learn/python/learn/datasets/mnist.py:262: extract_images (from tensorflow.contrib.learn.python.learn.datasets.mnist) is deprecated and will be removed in a future version.\n",
            "Instructions for updating:\n",
            "Please use tf.data to implement this functionality.\n"
          ]
        },
        {
          "output_type": "stream",
          "name": "stdout",
          "text": [
            "Successfully downloaded train-images-idx3-ubyte.gz 9912422 bytes.\n",
            "Extracting ./data/train-images-idx3-ubyte.gz\n"
          ]
        },
        {
          "output_type": "stream",
          "name": "stderr",
          "text": [
            "WARNING:tensorflow:From /usr/local/lib/python3.7/dist-packages/tensorflow_core/contrib/learn/python/learn/datasets/mnist.py:267: extract_labels (from tensorflow.contrib.learn.python.learn.datasets.mnist) is deprecated and will be removed in a future version.\n",
            "Instructions for updating:\n",
            "Please use tf.data to implement this functionality.\n",
            "WARNING:tensorflow:From /usr/local/lib/python3.7/dist-packages/tensorflow_core/contrib/learn/python/learn/datasets/mnist.py:110: dense_to_one_hot (from tensorflow.contrib.learn.python.learn.datasets.mnist) is deprecated and will be removed in a future version.\n",
            "Instructions for updating:\n",
            "Please use tf.one_hot on tensors.\n",
            "WARNING:tensorflow:From /usr/local/lib/python3.7/dist-packages/tensorflow_core/contrib/learn/python/learn/datasets/mnist.py:290: DataSet.__init__ (from tensorflow.contrib.learn.python.learn.datasets.mnist) is deprecated and will be removed in a future version.\n",
            "Instructions for updating:\n",
            "Please use alternatives such as official/mnist/dataset.py from tensorflow/models.\n"
          ]
        },
        {
          "output_type": "stream",
          "name": "stdout",
          "text": [
            "Successfully downloaded train-labels-idx1-ubyte.gz 28881 bytes.\n",
            "Extracting ./data/train-labels-idx1-ubyte.gz\n",
            "Successfully downloaded t10k-images-idx3-ubyte.gz 1648877 bytes.\n",
            "Extracting ./data/t10k-images-idx3-ubyte.gz\n",
            "Successfully downloaded t10k-labels-idx1-ubyte.gz 4542 bytes.\n",
            "Extracting ./data/t10k-labels-idx1-ubyte.gz\n"
          ]
        }
      ]
    },
    {
      "cell_type": "code",
      "source": [
        "num_training = mnist_data.train.num_examples\n",
        "num_testing = mnist_data.test.num_examples\n",
        "num_validation = mnist_data.validation.num_examples\n",
        "print(\"MNIST Datasize: Training samples: {0}, Testing samples: {1}\")"
      ],
      "metadata": {
        "colab": {
          "base_uri": "https://localhost:8080/"
        },
        "id": "zYASdqqup2l3",
        "outputId": "78f8ff59-6113-4c3f-9816-6f6f76d524ad"
      },
      "execution_count": 14,
      "outputs": [
        {
          "output_type": "stream",
          "name": "stdout",
          "text": [
            "MNIST Datasize: Training samples: {0}, Testing samples: {1}\n"
          ]
        }
      ]
    },
    {
      "cell_type": "code",
      "source": [
        "# Network parameters of Neural Network\n",
        "n_input = 784     # Input image of size 28 x 28\n",
        "n_hidden_1 = 512  # First hidden layer\n",
        "n_hidden_2 = 256  # Second hidden layer\n",
        "n_hidden_3 = 128  # Third hidden layer\n",
        "n_output = 10     # Output layer having (0-9) digits"
      ],
      "metadata": {
        "id": "-wF_OpGQp6sE"
      },
      "execution_count": 15,
      "outputs": []
    },
    {
      "cell_type": "code",
      "source": [
        "learning_rate = 1e-4\n",
        "epochs = 3000\n",
        "batch_size = 128\n",
        "keep_prob = tf.placeholder(tf.float32)"
      ],
      "metadata": {
        "id": "uBR245BJqCaF"
      },
      "execution_count": 16,
      "outputs": []
    },
    {
      "cell_type": "code",
      "source": [
        "# Building tensorflow graph\n",
        "X = tf.placeholder(tf.float32, [None, n_input])\n",
        "Y = tf.placeholder(tf.float32, [None, n_output])"
      ],
      "metadata": {
        "id": "7nP00Xk-qDJb"
      },
      "execution_count": 17,
      "outputs": []
    },
    {
      "cell_type": "code",
      "source": [
        "nn_weight = {\"W1\": tf.Variable(tf.truncated_normal([n_input, n_hidden_1], stddev = 0.1)),\n",
        "             \"W2\": tf.Variable(tf.truncated_normal([n_hidden_1, n_hidden_2], stddev = 0.1)),\n",
        "             \"W3\": tf.Variable(tf.truncated_normal([n_hidden_2, n_hidden_3], stddev = 0.1)),\n",
        "             \"Wout\":tf.Variable(tf.truncated_normal([n_hidden_3, n_output]))\n",
        "}\n",
        "\n",
        "nn_bias = { \"B1\": tf.Variable(tf.truncated_normal([n_hidden_1])),\n",
        "            \"B2\": tf.Variable(tf.truncated_normal([n_hidden_2])),\n",
        "            \"B3\": tf.Variable(tf.truncated_normal([n_hidden_3])),\n",
        "            \"B4\": tf.Variable(tf.truncated_normal([n_output])),  \n",
        "           }"
      ],
      "metadata": {
        "id": "SZvVLwnUqDr4"
      },
      "execution_count": 18,
      "outputs": []
    },
    {
      "cell_type": "code",
      "source": [
        "nn_layer_1 = tf.add(tf.matmul(X, nn_weight[\"W1\"]),nn_bias[\"B1\"])\n",
        "nn_layer_2 = tf.add(tf.matmul(nn_layer_1, nn_weight[\"W2\"]),nn_bias[\"B2\"])\n",
        "nn_layer_3 = tf.add(tf.matmul(nn_layer_2, nn_weight[\"W3\"]),nn_bias[\"B3\"])\n",
        "layer_drop = tf.nn.dropout(nn_layer_3, keep_prob)\n",
        "output_layer = tf.add(tf.matmul(layer_drop, nn_weight[\"Wout\"]), nn_bias[\"B4\"])"
      ],
      "metadata": {
        "colab": {
          "base_uri": "https://localhost:8080/"
        },
        "id": "ch_9EzJlqIrk",
        "outputId": "63690ec4-1a2a-4715-cc62-de95a860db1a"
      },
      "execution_count": 19,
      "outputs": [
        {
          "output_type": "stream",
          "name": "stderr",
          "text": [
            "WARNING:tensorflow:From <ipython-input-19-7479a4162d01>:4: calling dropout (from tensorflow.python.ops.nn_ops) with keep_prob is deprecated and will be removed in a future version.\n",
            "Instructions for updating:\n",
            "Please use `rate` instead of `keep_prob`. Rate should be set to `rate = 1 - keep_prob`.\n"
          ]
        }
      ]
    },
    {
      "cell_type": "code",
      "source": [
        "# Define the loss\n",
        "computed_loss = tf.reduce_mean(tf.nn.softmax_cross_entropy_with_logits_v2(logits = output_layer, labels = Y))\n",
        "\n",
        "# Define the optimizer\n",
        "optimizer = tf.train.GradientDescentOptimizer(learning_rate = learning_rate).minimize(computed_loss)\n",
        "\n",
        "#Define prediction\n",
        "prediction_out = tf.equal(tf.argmax(output_layer,1), tf.argmax(Y,1))\n",
        "\n",
        "# Define accuracy of the model\n",
        "nn_accuracy = tf.reduce_mean(tf.cast(prediction_out, tf.float32))\n",
        "\n",
        "# Initialize all the variables\n",
        "init = tf.global_variables_initializer()\n",
        "\n",
        "saver = tf.train.Saver()"
      ],
      "metadata": {
        "id": "MVl2dQENqdui"
      },
      "execution_count": 20,
      "outputs": []
    },
    {
      "cell_type": "code",
      "source": [
        "with tf.Session() as sess:\n",
        "  sess.run(init)\n",
        "  for i in range(epochs):\n",
        "\n",
        "    mini_batch_x, mini_batch_y = mnist_data.train.next_batch(batch_size)\n",
        "    #print(mini_batch_x[0:1,:].shape)\n",
        "    mini_batch_val_x, mini_batch_val_y = mnist_data.validation.next_batch(batch_size)\n",
        "\n",
        "    sess.run(optimizer, feed_dict = {X : mini_batch_x, Y : mini_batch_y, keep_prob:1})\n",
        "    \n",
        "    if i%100 == 0:\n",
        "      mini_batch_loss, mini_batch_accuracy = sess.run([computed_loss, nn_accuracy], feed_dict = {X: mini_batch_x, Y: mini_batch_y, keep_prob:1})\n",
        "\n",
        "      mini_batch_val_loss, mini_batch_val_accuracy = sess.run([computed_loss, nn_accuracy], feed_dict = {X: mini_batch_x, Y: mini_batch_y, keep_prob:1})\n",
        "\n",
        "      print(\"Iterations : {0} , Train_loss = {1}, Train_Accuracy {2}, Val_loss {3}, Val_accuracy {4}\".format(i, mini_batch_loss, mini_batch_accuracy, mini_batch_val_loss, mini_batch_val_accuracy))\n",
        "\n",
        "  print(\"Optimization Finished\")\n",
        "  test_accuracy = sess.run(nn_accuracy, feed_dict = {X:mnist_data.test.images, Y:mnist_data.test.labels, keep_prob:1.0})\n",
        "  print(\"Testing accuracy is {0}\".format(test_accuracy))\n",
        "\n",
        "  saver_path = saver.save(sess, \"./model/my_model.ckpt\")"
      ],
      "metadata": {
        "colab": {
          "base_uri": "https://localhost:8080/"
        },
        "id": "eE6RsZcMqhrj",
        "outputId": "b60de0d1-a382-48d6-9fd5-43995c7e1b02"
      },
      "execution_count": 21,
      "outputs": [
        {
          "output_type": "stream",
          "name": "stdout",
          "text": [
            "Iterations : 0 , Train_loss = 40.392608642578125, Train_Accuracy 0.078125, Val_loss 40.392608642578125, Val_accuracy 0.078125\n",
            "Iterations : 100 , Train_loss = 9.093099594116211, Train_Accuracy 0.4140625, Val_loss 9.093099594116211, Val_accuracy 0.4140625\n",
            "Iterations : 200 , Train_loss = 6.734145164489746, Train_Accuracy 0.4921875, Val_loss 6.734145164489746, Val_accuracy 0.4921875\n",
            "Iterations : 300 , Train_loss = 4.133763313293457, Train_Accuracy 0.6640625, Val_loss 4.133763313293457, Val_accuracy 0.6640625\n",
            "Iterations : 400 , Train_loss = 3.413057327270508, Train_Accuracy 0.71875, Val_loss 3.413057327270508, Val_accuracy 0.71875\n",
            "Iterations : 500 , Train_loss = 3.4157838821411133, Train_Accuracy 0.6796875, Val_loss 3.4157838821411133, Val_accuracy 0.6796875\n",
            "Iterations : 600 , Train_loss = 2.790210485458374, Train_Accuracy 0.7734375, Val_loss 2.790210485458374, Val_accuracy 0.7734375\n",
            "Iterations : 700 , Train_loss = 2.915597915649414, Train_Accuracy 0.7109375, Val_loss 2.915597915649414, Val_accuracy 0.7109375\n",
            "Iterations : 800 , Train_loss = 3.3598875999450684, Train_Accuracy 0.6953125, Val_loss 3.3598875999450684, Val_accuracy 0.6953125\n",
            "Iterations : 900 , Train_loss = 2.05655837059021, Train_Accuracy 0.7421875, Val_loss 2.05655837059021, Val_accuracy 0.7421875\n",
            "Iterations : 1000 , Train_loss = 2.338031768798828, Train_Accuracy 0.78125, Val_loss 2.338031768798828, Val_accuracy 0.78125\n",
            "Iterations : 1100 , Train_loss = 1.8165619373321533, Train_Accuracy 0.7421875, Val_loss 1.8165619373321533, Val_accuracy 0.7421875\n",
            "Iterations : 1200 , Train_loss = 1.3351370096206665, Train_Accuracy 0.84375, Val_loss 1.3351370096206665, Val_accuracy 0.84375\n",
            "Iterations : 1300 , Train_loss = 0.966820478439331, Train_Accuracy 0.8671875, Val_loss 0.966820478439331, Val_accuracy 0.8671875\n",
            "Iterations : 1400 , Train_loss = 1.4944360256195068, Train_Accuracy 0.859375, Val_loss 1.4944360256195068, Val_accuracy 0.859375\n",
            "Iterations : 1500 , Train_loss = 1.6744282245635986, Train_Accuracy 0.8125, Val_loss 1.6744282245635986, Val_accuracy 0.8125\n",
            "Iterations : 1600 , Train_loss = 2.1310620307922363, Train_Accuracy 0.7734375, Val_loss 2.1310620307922363, Val_accuracy 0.7734375\n",
            "Iterations : 1700 , Train_loss = 2.207343578338623, Train_Accuracy 0.7890625, Val_loss 2.207343578338623, Val_accuracy 0.7890625\n",
            "Iterations : 1800 , Train_loss = 1.9682016372680664, Train_Accuracy 0.8125, Val_loss 1.9682016372680664, Val_accuracy 0.8125\n",
            "Iterations : 1900 , Train_loss = 1.2222673892974854, Train_Accuracy 0.8046875, Val_loss 1.2222673892974854, Val_accuracy 0.8046875\n",
            "Iterations : 2000 , Train_loss = 1.7063615322113037, Train_Accuracy 0.8203125, Val_loss 1.7063615322113037, Val_accuracy 0.8203125\n",
            "Iterations : 2100 , Train_loss = 1.1589317321777344, Train_Accuracy 0.90625, Val_loss 1.1589317321777344, Val_accuracy 0.90625\n",
            "Iterations : 2200 , Train_loss = 1.867274522781372, Train_Accuracy 0.828125, Val_loss 1.867274522781372, Val_accuracy 0.828125\n",
            "Iterations : 2300 , Train_loss = 0.837126612663269, Train_Accuracy 0.9140625, Val_loss 0.837126612663269, Val_accuracy 0.9140625\n",
            "Iterations : 2400 , Train_loss = 1.2834587097167969, Train_Accuracy 0.8515625, Val_loss 1.2834587097167969, Val_accuracy 0.8515625\n",
            "Iterations : 2500 , Train_loss = 0.9394470453262329, Train_Accuracy 0.8671875, Val_loss 0.9394470453262329, Val_accuracy 0.8671875\n",
            "Iterations : 2600 , Train_loss = 1.09468674659729, Train_Accuracy 0.8359375, Val_loss 1.09468674659729, Val_accuracy 0.8359375\n",
            "Iterations : 2700 , Train_loss = 1.7341293096542358, Train_Accuracy 0.8125, Val_loss 1.7341293096542358, Val_accuracy 0.8125\n",
            "Iterations : 2800 , Train_loss = 1.1766753196716309, Train_Accuracy 0.8671875, Val_loss 1.1766753196716309, Val_accuracy 0.8671875\n",
            "Iterations : 2900 , Train_loss = 1.4595426321029663, Train_Accuracy 0.859375, Val_loss 1.4595426321029663, Val_accuracy 0.859375\n",
            "Optimization Finished\n",
            "Testing accuracy is 0.8521000146865845\n"
          ]
        }
      ]
    },
    {
      "cell_type": "code",
      "source": [
        "img = cv2.imread(\"7.png\")\n",
        "gray_image = cv2.cvtColor(img, cv2.COLOR_BGR2GRAY)\n",
        "\n",
        "rescaled_image = cv2.resize(gray_image, (28,28))\n",
        "plt.imshow(rescaled_image, cmap = 'gray')\n",
        "plt.show()\n",
        "rescaled_image.shape\n",
        "#test_image = rescaled_image.flatten()\n",
        "\n",
        "dum = rescaled_image.reshape(1,-1)/255\n",
        "dum.shape\n",
        "with tf.Session() as sess:\n",
        "  saver.restore(sess, \"./model/model.ckpt\")\n",
        "  Z = output_layer.eval(feed_dict = {X:dum, keep_prob:1.0})\n",
        "  y_pred = np.argmax(Z, axis = 1)\n",
        "  print(\"Prediction for test image is {0}\".format(y_pred))"
      ],
      "metadata": {
        "id": "jwNDGulnrNlk"
      },
      "execution_count": null,
      "outputs": []
    }
  ]
}