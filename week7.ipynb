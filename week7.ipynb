# https://colab.research.google.com/drive/1SvUrg13Fj7so-TvSzskJ01b1SOLliXTK?usp=sharing
