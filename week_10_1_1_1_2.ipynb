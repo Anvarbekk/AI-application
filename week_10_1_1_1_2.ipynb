{
  "nbformat": 4,
  "nbformat_minor": 0,
  "metadata": {
    "colab": {
      "provenance": [],
      "authorship_tag": "ABX9TyOlLk6aMCwCLi+i7z5Bqp41",
      "include_colab_link": true
    },
    "kernelspec": {
      "name": "python3",
      "display_name": "Python 3"
    },
    "language_info": {
      "name": "python"
    },
    "accelerator": "TPU",
    "gpuClass": "standard"
  },
  "cells": [
    {
      "cell_type": "markdown",
      "metadata": {
        "id": "view-in-github",
        "colab_type": "text"
      },
      "source": [
        "<a href=\"https://colab.research.google.com/github/Anvarbekk/AI-application/blob/main/week_10_1_1_1_2.ipynb\" target=\"_parent\"><img src=\"https://colab.research.google.com/assets/colab-badge.svg\" alt=\"Open In Colab\"/></a>"
      ]
    },
    {
      "cell_type": "code",
      "execution_count": 1,
      "metadata": {
        "id": "2UPP24B6BNN2"
      },
      "outputs": [],
      "source": [
        "import torch \n",
        "import torchvision\n",
        "from torchvision import transforms \n",
        "from PIL import Image\n",
        "\n",
        "device = torch.device (\"cuda:O\" if torch.cuda.is_available() else \"cpu\")"
      ]
    },
    {
      "cell_type": "code",
      "source": [
        "# Load and preprocess image.\n",
        "image = Image.open('/content/dog.jpeg')\n",
        "preprocess = transforms.Compose([\n",
        "    transforms.Resize((224, 224)),\n",
        "    transforms.ToTensor(),\n",
        "    transforms.Normalize(mean=[0.485, 0.456, 0.406], std=[0.229, 0.224, 0.225])\n",
        "]) # Parameters are documented at pytorch.org.\n",
        "input_tensor = preprocess (image)\n",
        "# Convert to 4-dimensional tensor.\n",
        "inputs = input_tensor.unsqueeze(0)"
      ],
      "metadata": {
        "id": "Fhi0D_dFDXNZ"
      },
      "execution_count": 3,
      "outputs": []
    },
    {
      "cell_type": "code",
      "source": [
        "# Load the pre trained model\n",
        "model=torchvision.models.resnet50(weights=torchvision.models.ResNet50_Weights.IMAGENET1K_V1)\n",
        "model.eval()\n",
        "\n",
        "# Transfer model to GPU.\n",
        "model.to(device)\n",
        "\n",
        "# Do prediction.\n",
        "inputs = inputs.to(device)\n",
        "with torch.no_grad():\n",
        "  outputs = model (inputs)\n",
        "\n",
        "# Convert to probabilities, since final SoftMax activation is not in pretrained model.\n",
        "probabilities = torch.nn. functional.softmax(outputs[0], dim=0)\n",
        "\n",
        "# Print class ID for top 5 predictions.\n",
        "_, indices = torch.sort (probabilities, descending=True)\n",
        "# for i in range(0, 5):\n",
        "#   print(\"ImageNet class:\", indices[i].item(), ', probability = %4.3f' %probabilities[indices[i]].item())\n",
        "\n",
        "for i in range(0,5):\n",
        "  print('ImageNet class:', indices[i].item(), ', probability = %4.3f' % probabilities[indices[i]].item())\n",
        "# Show image\n",
        "image.show()"
      ],
      "metadata": {
        "colab": {
          "base_uri": "https://localhost:8080/"
        },
        "id": "1RJfrpMSFyCA",
        "outputId": "d4688db8-ff0c-4c3c-b848-ba70afae70f2"
      },
      "execution_count": 6,
      "outputs": [
        {
          "output_type": "stream",
          "name": "stdout",
          "text": [
            "ImageNet class: 207 , probability = 0.983\n",
            "ImageNet class: 852 , probability = 0.004\n",
            "ImageNet class: 215 , probability = 0.003\n",
            "ImageNet class: 208 , probability = 0.002\n",
            "ImageNet class: 168 , probability = 0.002\n"
          ]
        }
      ]
    }
  ]
}