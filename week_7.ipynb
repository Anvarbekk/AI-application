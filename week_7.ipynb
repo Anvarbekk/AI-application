{
  "nbformat": 4,
  "nbformat_minor": 0,
  "metadata": {
    "colab": {
      "provenance": [],
      "collapsed_sections": [],
      "authorship_tag": "ABX9TyN4JU7LHXfnDWx2Ux5PAZ20",
      "include_colab_link": true
    },
    "kernelspec": {
      "name": "python3",
      "display_name": "Python 3"
    },
    "language_info": {
      "name": "python"
    }
  },
  "cells": [
    {
      "cell_type": "markdown",
      "metadata": {
        "id": "view-in-github",
        "colab_type": "text"
      },
      "source": [
        "<a href=\"https://colab.research.google.com/github/Anvarbekk/AI-application/blob/main/week_7.ipynb\" target=\"_parent\"><img src=\"https://colab.research.google.com/assets/colab-badge.svg\" alt=\"Open In Colab\"/></a>"
      ]
    },
    {
      "cell_type": "code",
      "execution_count": 17,
      "metadata": {
        "colab": {
          "base_uri": "https://localhost:8080/",
          "height": 141
        },
        "id": "VfZHE7NH95gG",
        "outputId": "28937428-d3c4-4d06-da7a-17d2a0e90514"
      },
      "outputs": [
        {
          "output_type": "stream",
          "name": "stdout",
          "text": [
            "Files already downloaded and verified\n",
            "Category:  8\n"
          ]
        },
        {
          "output_type": "display_data",
          "data": {
            "text/plain": [
              "<Figure size 72x72 with 1 Axes>"
            ],
            "image/png": "[encoded data removed]"
          },
          "metadata": {
            "needs_background": "light"
          }
        }
      ],
      "source": [
        "import torchvision\n",
        "import torchvision. transforms as transforms\n",
        "from torchvision.datasets import CIFAR10 \n",
        "from torch.utils.data import DataLoader\n",
        "import numpy as np \n",
        "import matplotlib.pyplot as plt\n",
        "# Load training dataset into a single batch.\n",
        "transform = transforms.Compose ( [transforms. ToTensor ()])\n",
        "trainset = CIFAR10(root='./pt_data', train=True, download=True, transform=transform)\n",
        "trainloader = DataLoader (trainset, batch_size=len(trainset), shuffle=False)\n",
        "data = next(iter (trainloader))\n",
        "# Convert to numpy arrays of correct shape for plotting.\n",
        "train_images = data[0].numpy ()\n",
        "train_images = np.moveaxis(train_images, 1, 3)\n",
        "train_labels = data[1].numpy ()\n",
        "print ('Category: ', train_labels [100])\n",
        "plt.figure(figsize=(1, 1)) \n",
        "plt. imshow(train_images [100]) \n",
        "plt.show()"
      ]
    },
    {
      "cell_type": "code",
      "source": [
        "!pip install requests"
      ],
      "metadata": {
        "colab": {
          "base_uri": "https://localhost:8080/"
        },
        "id": "OS63K1r799jA",
        "outputId": "53510ac7-2898-4929-9d50-71797144e9b7"
      },
      "execution_count": 18,
      "outputs": [
        {
          "output_type": "stream",
          "name": "stdout",
          "text": [
            "Looking in indexes: https://pypi.org/simple, https://us-python.pkg.dev/colab-wheels/public/simple/\n",
            "Requirement already satisfied: requests in /usr/local/lib/python3.7/dist-packages (2.23.0)\n",
            "Requirement already satisfied: idna<3,>=2.5 in /usr/local/lib/python3.7/dist-packages (from requests) (2.10)\n",
            "Requirement already satisfied: urllib3!=1.25.0,!=1.25.1,<1.26,>=1.21.1 in /usr/local/lib/python3.7/dist-packages (from requests) (1.24.3)\n",
            "Requirement already satisfied: certifi>=2017.4.17 in /usr/local/lib/python3.7/dist-packages (from requests) (2022.9.24)\n",
            "Requirement already satisfied: chardet<4,>=3.0.2 in /usr/local/lib/python3.7/dist-packages (from requests) (3.0.4)\n"
          ]
        }
      ]
    },
    {
      "cell_type": "code",
      "source": [
        "import requests \n",
        "# Save datagenerators as file to colab working directory\n",
        "# If you are using GitHub , make sure you get the \"Raw \" version of the code \n",
        "url = 'https://raw.githubusercontent.com/NVDLI/LDL/main/pt_framework/utilities.py'\n",
        "r = requests.get(url)\n",
        "\n",
        "\n",
        "# make sure your filename is the same as how you want to import\n",
        "with open('utilities.py', 'w') as f:\n",
        "  f.write(r.text)"
      ],
      "metadata": {
        "id": "CznSHN7X-Fv1"
      },
      "execution_count": 19,
      "outputs": []
    },
    {
      "cell_type": "code",
      "source": [
        "import torch\n",
        "import torch.nn as nn \n",
        "import torchvision\n",
        "import torchvision.transforms as transforms \n",
        "from torchvision.datasets import CIFAR10 \n",
        "from torch.utils.data import DataLoader \n",
        "import numpy as np\n",
        "from utilities import train_model\n",
        "\n",
        "device = torch.device(\"cuda:0\" if torch.cuda.is_available() else \"cpu\")\n",
        "EPOCHS = 41\n",
        "BATCH_SIZE = 32\n",
        "# Load training dataset into a single batch to compute mean and stddev.\n",
        "transform = transforms. Compose([transforms. ToTensor ()])\n",
        "trainset = CIFAR10(root='./pt_data', train=True, download=True, transform=transform)\n",
        "trainloader = DataLoader (trainset, batch_size=len(trainset), shuffle=False)\n",
        "data = next(iter (trainloader))\n",
        "mean = data[0].mean ()\n",
        "stddev = data[0].std()"
      ],
      "metadata": {
        "colab": {
          "base_uri": "https://localhost:8080/"
        },
        "id": "VEo62pbP-MB4",
        "outputId": "d39cc8f9-579f-465a-f348-f5b3089da5c7"
      },
      "execution_count": 38,
      "outputs": [
        {
          "output_type": "stream",
          "name": "stdout",
          "text": [
            "Files already downloaded and verified\n"
          ]
        }
      ]
    },
    {
      "cell_type": "code",
      "source": [
        "transform=transforms.Compose( \n",
        "    [transforms.ToTensor(),\n",
        "     transforms.Normalize(mean,stddev)])\n",
        "\n",
        "trainset = CIFAR10(root='./pt_data', train=True, download=True,transform=transform) \n",
        "testset = CIFAR10(root='./pt_data', train=False, download=True,transform=transform)\n",
        "\n",
        "\n",
        "model = nn. Sequential(\n",
        "    nn.Conv2d(3, 64, 5, stride=2, padding=2),\n",
        "    nn.ReLU(),\n",
        "    nn. Conv2d(64, 64, 3, stride=2, padding=1),\n",
        "    nn.ReLU(),\n",
        "    nn.Flatten(),\n",
        "    nn.Linear (64*8*8, 10)\n",
        ")"
      ],
      "metadata": {
        "colab": {
          "base_uri": "https://localhost:8080/"
        },
        "id": "7j3VCDR3-0Vw",
        "outputId": "f7079e3f-c041-4ec4-f279-2d850cc7429c"
      },
      "execution_count": 39,
      "outputs": [
        {
          "output_type": "stream",
          "name": "stdout",
          "text": [
            "Files already downloaded and verified\n",
            "Files already downloaded and verified\n"
          ]
        }
      ]
    },
    {
      "cell_type": "code",
      "source": [
        "layers = next (model.modules())\n",
        "conv_layer0=layers[0]\n",
        "conv_layer1=layers[2]\n",
        "output_layer=layers[5]\n",
        "\n",
        "nn.init.kaiming_normal_(conv_layer0.weight)\n",
        "nn.init.constant(conv_layer0.bias,0.0)\n",
        "\n",
        "nn.init.kaiming_normal_(conv_layer1.weight)\n",
        "nn.init.constant (conv_layer1.bias, 0.0)\n",
        "\n",
        "nn. init.xavier_uniform (output_layer.weight)\n",
        "nn.init.constant (output_layer.bias, 0.0)\n",
        "\n",
        "optimizer = torch.optim.Adam(model.parameters()) \n",
        "loss_function = nn.CrossEntropyLoss()\n",
        "\n",
        "train_model(model, device, EPOCHS, BATCH_SIZE, trainset, testset, optimizer, loss_function, 'acc')"
      ],
      "metadata": {
        "colab": {
          "base_uri": "https://localhost:8080/"
        },
        "id": "mXlWV9jR_LZc",
        "outputId": "63674f69-aaea-4ef8-9bd7-33a815fd9e71"
      },
      "execution_count": null,
      "outputs": [
        {
          "metadata": {
            "tags": null
          },
          "name": "stderr",
          "output_type": "stream",
          "text": [
            "/usr/local/lib/python3.7/dist-packages/ipykernel_launcher.py:7: UserWarning: nn.init.constant is now deprecated in favor of nn.init.constant_.\n",
            "  import sys\n",
            "/usr/local/lib/python3.7/dist-packages/ipykernel_launcher.py:10: UserWarning: nn.init.constant is now deprecated in favor of nn.init.constant_.\n",
            "  # Remove the CWD from sys.path while we load stuff.\n",
            "/usr/local/lib/python3.7/dist-packages/ipykernel_launcher.py:12: UserWarning: nn.init.xavier_uniform is now deprecated in favor of nn.init.xavier_uniform_.\n",
            "  if sys.path[0] == '':\n",
            "/usr/local/lib/python3.7/dist-packages/ipykernel_launcher.py:13: UserWarning: nn.init.constant is now deprecated in favor of nn.init.constant_.\n",
            "  del sys.path[0]\n"
          ]
        },
        {
          "output_type": "stream",
          "name": "stdout",
          "text": [
            "Epoch 1/41 loss: 1.4220 - acc: 0.4993 - val_loss: 1.1762 - val_acc: 0.5898\n",
            "Epoch 2/41 loss: 1.0771 - acc: 0.6248 - val_loss: 1.0954 - val_acc: 0.6194\n",
            "Epoch 3/41 loss: 0.9330 - acc: 0.6766 - val_loss: 1.0366 - val_acc: 0.6477\n",
            "Epoch 4/41 loss: 0.8354 - acc: 0.7096 - val_loss: 1.0204 - val_acc: 0.6520\n",
            "Epoch 5/41 loss: 0.7511 - acc: 0.7387 - val_loss: 1.0498 - val_acc: 0.6570\n",
            "Epoch 6/41 loss: 0.6735 - acc: 0.7655 - val_loss: 1.1283 - val_acc: 0.6371\n",
            "Epoch 7/41 loss: 0.6139 - acc: 0.7835 - val_loss: 1.1644 - val_acc: 0.6406\n",
            "Epoch 8/41 loss: 0.5565 - acc: 0.8028 - val_loss: 1.1944 - val_acc: 0.6557\n",
            "Epoch 9/41 loss: 0.5129 - acc: 0.8186 - val_loss: 1.2475 - val_acc: 0.6403\n",
            "Epoch 10/41 loss: 0.4668 - acc: 0.8340 - val_loss: 1.3653 - val_acc: 0.6329\n",
            "Epoch 11/41 loss: 0.4254 - acc: 0.8484 - val_loss: 1.4495 - val_acc: 0.6258\n",
            "Epoch 12/41 loss: 0.3940 - acc: 0.8606 - val_loss: 1.5170 - val_acc: 0.6242\n",
            "Epoch 13/41 loss: 0.3641 - acc: 0.8706 - val_loss: 1.5987 - val_acc: 0.6332\n",
            "Epoch 14/41 loss: 0.3406 - acc: 0.8776 - val_loss: 1.6897 - val_acc: 0.6253\n",
            "Epoch 15/41 loss: 0.3083 - acc: 0.8879 - val_loss: 1.7668 - val_acc: 0.6280\n",
            "Epoch 16/41 loss: 0.2998 - acc: 0.8922 - val_loss: 1.8720 - val_acc: 0.6240\n",
            "Epoch 17/41 loss: 0.2720 - acc: 0.9021 - val_loss: 1.9654 - val_acc: 0.6076\n",
            "Epoch 18/41 loss: 0.2583 - acc: 0.9071 - val_loss: 2.0085 - val_acc: 0.6152\n",
            "Epoch 19/41 loss: 0.2460 - acc: 0.9126 - val_loss: 2.1847 - val_acc: 0.6148\n",
            "Epoch 20/41 loss: 0.2278 - acc: 0.9155 - val_loss: 2.2920 - val_acc: 0.6139\n",
            "Epoch 21/41 loss: 0.2177 - acc: 0.9219 - val_loss: 2.3027 - val_acc: 0.6216\n",
            "Epoch 22/41 loss: 0.2058 - acc: 0.9247 - val_loss: 2.4803 - val_acc: 0.6212\n",
            "Epoch 23/41 loss: 0.2053 - acc: 0.9253 - val_loss: 2.5148 - val_acc: 0.6156\n",
            "Epoch 24/41 loss: 0.1877 - acc: 0.9317 - val_loss: 2.6935 - val_acc: 0.6091\n",
            "Epoch 25/41 loss: 0.1836 - acc: 0.9333 - val_loss: 2.8673 - val_acc: 0.6028\n",
            "Epoch 26/41 loss: 0.1795 - acc: 0.9358 - val_loss: 2.9436 - val_acc: 0.6055\n",
            "Epoch 27/41 loss: 0.1738 - acc: 0.9380 - val_loss: 3.0021 - val_acc: 0.6099\n",
            "Epoch 28/41 loss: 0.1721 - acc: 0.9384 - val_loss: 3.0907 - val_acc: 0.6139\n",
            "Epoch 29/41 loss: 0.1632 - acc: 0.9427 - val_loss: 3.1173 - val_acc: 0.6202\n",
            "Epoch 30/41 loss: 0.1605 - acc: 0.9439 - val_loss: 3.2355 - val_acc: 0.6107\n",
            "Epoch 31/41 loss: 0.1610 - acc: 0.9436 - val_loss: 3.3623 - val_acc: 0.6179\n",
            "Epoch 32/41 loss: 0.1556 - acc: 0.9467 - val_loss: 3.5867 - val_acc: 0.5996\n",
            "Epoch 33/41 loss: 0.1556 - acc: 0.9464 - val_loss: 3.5367 - val_acc: 0.6133\n",
            "Epoch 34/41 loss: 0.1473 - acc: 0.9494 - val_loss: 3.6415 - val_acc: 0.6150\n"
          ]
        }
      ]
    }
  ]
}